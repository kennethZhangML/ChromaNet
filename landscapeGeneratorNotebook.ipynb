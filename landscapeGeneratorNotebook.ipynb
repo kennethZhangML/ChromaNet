{
 "cells": [
  {
   "cell_type": "code",
   "execution_count": 1,
   "metadata": {},
   "outputs": [],
   "source": [
    "import torch\n",
    "import torch.nn as nn \n",
    "import torch.nn.functional as F\n",
    "import torchvision\n",
    "import tqdm\n",
    "\n",
    "from torchvision.transforms import transforms\n",
    "from torch.utils.data import Dataset\n",
    "from torchvision.io import read_image\n",
    "from skimage.color import rgb2lab, lab2rgb\n",
    "from colorizationTools import EncoderDataset, ColorizationAutoencoder\n",
    "from torch.utils.data import DataLoader"
   ]
  },
  {
   "cell_type": "code",
   "execution_count": 2,
   "metadata": {},
   "outputs": [],
   "source": [
    "import os\n",
    "import numpy as np\n",
    "import random"
   ]
  },
  {
   "cell_type": "code",
   "execution_count": 3,
   "metadata": {},
   "outputs": [],
   "source": [
    "base_dir = \"/Users/kennethzhang/Desktop/landscape Images/\"\n",
    "\n",
    "ok = read_image(base_dir + \"color/\" \n",
    "                + \"0.jpg\")\n",
    "\n",
    "batch_size = 16\n",
    "epochs = 20\n",
    "num_workers = 0\n",
    "\n",
    "total_images = len(os.listdir(base_dir + 'color'))\n",
    "random_indices = random.sample(list(range(total_images)), total_images)"
   ]
  },
  {
   "cell_type": "code",
   "execution_count": 4,
   "metadata": {},
   "outputs": [],
   "source": [
    "split_idx = round(total_images * 0.8)\n",
    "train_idx = random_indices[:split_idx]\n",
    "test_idx = random_indices[split_idx:]\n",
    "\n",
    "train_transforms = transforms.Compose([transforms.ToPILImage(), transforms.ToTensor()])\n",
    "test_transforms = transforms.Compose([transforms.ToPILImage(), transforms.ToTensor()])\n",
    "\n",
    "train_dataset = EncoderDataset(train_idx, base_dir)\n",
    "test_dataset = EncoderDataset(test_idx, base_dir)\n",
    "\n",
    "train_loader = DataLoader(train_dataset, batch_size = batch_size, shuffle = True)\n",
    "test_loader = DataLoader(test_dataset, batch_size, batch_size)"
   ]
  },
  {
   "cell_type": "code",
   "execution_count": 7,
   "metadata": {},
   "outputs": [
    {
     "data": {
      "text/plain": [
       "ColorizationAutoencoder(\n",
       "  (conv1): Conv2d(1, 64, kernel_size=(3, 3), stride=(1, 1), padding=(1, 1))\n",
       "  (conv2): Conv2d(64, 64, kernel_size=(3, 3), stride=(2, 2), padding=(1, 1))\n",
       "  (conv3): Conv2d(64, 128, kernel_size=(3, 3), stride=(2, 2), padding=(1, 1))\n",
       "  (conv4): Conv2d(128, 256, kernel_size=(3, 3), stride=(2, 2), padding=(1, 1))\n",
       "  (pooling2d): MaxPool2d(kernel_size=2, stride=2, padding=0, dilation=1, ceil_mode=False)\n",
       "  (t_conv1): ConvTranspose2d(256, 128, kernel_size=(3, 3), stride=(2, 2), padding=(1, 1), output_padding=(1, 1))\n",
       "  (t_conv2): ConvTranspose2d(256, 64, kernel_size=(3, 3), stride=(2, 2), padding=(1, 1), output_padding=(1, 1))\n",
       "  (t_conv3): ConvTranspose2d(128, 128, kernel_size=(3, 3), stride=(2, 2), padding=(1, 1), output_padding=(1, 1))\n",
       "  (t_conv4): ConvTranspose2d(192, 15, kernel_size=(3, 3), stride=(1, 1), padding=(1, 1))\n",
       "  (dropout): Dropout(p=0.2, inplace=False)\n",
       "  (converge): Conv2d(16, 2, kernel_size=(3, 3), stride=(1, 1), padding=(1, 1))\n",
       ")"
      ]
     },
     "execution_count": 7,
     "metadata": {},
     "output_type": "execute_result"
    }
   ],
   "source": [
    "model = ColorizationAutoencoder()\n",
    "model"
   ]
  },
  {
   "cell_type": "code",
   "execution_count": 12,
   "metadata": {},
   "outputs": [
    {
     "name": "stdout",
     "output_type": "stream",
     "text": [
      "Epoch: 20\\Training Loss: 37.483808\n",
      "Test Loss: 4.655.. \n"
     ]
    }
   ],
   "source": [
    "criterion = nn.MSELoss()\n",
    "optimizer = torch.optim.Adam(model.parameters(), lr = 0.001)\n",
    "\n",
    "n_epochs = 30\n",
    "train_losses = []\n",
    "test_losses = []\n",
    "\n",
    "for epoch in range(1, n_epochs + 1):\n",
    "\n",
    "    train_loss = 0.0\n",
    "\n",
    "    for data in train_loader:\n",
    "        images, labels = data\n",
    "\n",
    "        images = images.float()\n",
    "        labels = labels.float()\n",
    "\n",
    "        optimizer.zero_grad()\n",
    "        \n",
    "        outputs = model(images)\n",
    "        loss = criterion(outputs, labels)\n",
    "        loss.backward()\n",
    "\n",
    "        optimizer.step()\n",
    "\n",
    "        train_loss += loss.item() * images.size(0)\n",
    "    \n",
    "    print('Epoch: {}\\Training Loss: {:.6f}'.format(\n",
    "        epochs, train_loss\n",
    "    ))  \n",
    "\n",
    "    loss = train_loss / len(train_loader)\n",
    "    train_losses.append(loss)      \n",
    "\n",
    "    test_loss = 0.0\n",
    "\n",
    "    with torch.no_grad():\n",
    "        for images, labels in test_loader:\n",
    "            output = model(images)\n",
    "            loss = criterion(output, labels)\n",
    "            test_loss += loss.item() * images.size(0)\n",
    "\n",
    "        print(\"Test Loss: {:.3f}.. \".format(\n",
    "        test_loss\n",
    "        ))\n",
    "\n",
    "    test_loss = test_loss / len(test_loader)\n",
    "    test_losses.append(test_loss)"
   ]
  },
  {
   "cell_type": "code",
   "execution_count": null,
   "metadata": {},
   "outputs": [],
   "source": []
  }
 ],
 "metadata": {
  "kernelspec": {
   "display_name": "tensorflow",
   "language": "python",
   "name": "python3"
  },
  "language_info": {
   "codemirror_mode": {
    "name": "ipython",
    "version": 3
   },
   "file_extension": ".py",
   "mimetype": "text/x-python",
   "name": "python",
   "nbconvert_exporter": "python",
   "pygments_lexer": "ipython3",
   "version": "3.9.13"
  },
  "orig_nbformat": 4
 },
 "nbformat": 4,
 "nbformat_minor": 2
}
