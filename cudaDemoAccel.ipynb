{
 "cells": [
  {
   "cell_type": "code",
   "execution_count": 1,
   "metadata": {},
   "outputs": [
    {
     "ename": "ModuleNotFoundError",
     "evalue": "No module named 'pycuda'",
     "output_type": "error",
     "traceback": [
      "\u001b[0;31m---------------------------------------------------------------------------\u001b[0m",
      "\u001b[0;31mModuleNotFoundError\u001b[0m                       Traceback (most recent call last)",
      "\u001b[1;32m/Users/kennethzhang/Desktop/PyTorch Files/pytorch Projects/cudaDemoAccel.ipynb Cell 1\u001b[0m in \u001b[0;36m<cell line: 2>\u001b[0;34m()\u001b[0m\n\u001b[1;32m      <a href='vscode-notebook-cell:/Users/kennethzhang/Desktop/PyTorch%20Files/pytorch%20Projects/cudaDemoAccel.ipynb#W0sZmlsZQ%3D%3D?line=0'>1</a>\u001b[0m \u001b[39mimport\u001b[39;00m \u001b[39mnumpy\u001b[39;00m \u001b[39mas\u001b[39;00m \u001b[39mnp\u001b[39;00m\n\u001b[0;32m----> <a href='vscode-notebook-cell:/Users/kennethzhang/Desktop/PyTorch%20Files/pytorch%20Projects/cudaDemoAccel.ipynb#W0sZmlsZQ%3D%3D?line=1'>2</a>\u001b[0m \u001b[39mfrom\u001b[39;00m \u001b[39mcudaAcceleration\u001b[39;00m \u001b[39mimport\u001b[39;00m CUDAAccelerator\n\u001b[1;32m      <a href='vscode-notebook-cell:/Users/kennethzhang/Desktop/PyTorch%20Files/pytorch%20Projects/cudaDemoAccel.ipynb#W0sZmlsZQ%3D%3D?line=3'>4</a>\u001b[0m cuda_acc \u001b[39m=\u001b[39m CUDAAccelerator()\n\u001b[1;32m      <a href='vscode-notebook-cell:/Users/kennethzhang/Desktop/PyTorch%20Files/pytorch%20Projects/cudaDemoAccel.ipynb#W0sZmlsZQ%3D%3D?line=5'>6</a>\u001b[0m \u001b[39m# Example CUDA code\u001b[39;00m\n",
      "File \u001b[0;32m~/Desktop/PyTorch Files/pytorch Projects/cudaAcceleration.py:1\u001b[0m, in \u001b[0;36m<module>\u001b[0;34m\u001b[0m\n\u001b[0;32m----> 1\u001b[0m \u001b[39mimport\u001b[39;00m \u001b[39mpycuda\u001b[39;00m\u001b[39m.\u001b[39;00m\u001b[39mdriver\u001b[39;00m \u001b[39mas\u001b[39;00m \u001b[39mcuda\u001b[39;00m\n\u001b[1;32m      2\u001b[0m \u001b[39mimport\u001b[39;00m \u001b[39mpycuda\u001b[39;00m\u001b[39m.\u001b[39;00m\u001b[39mautoinit\u001b[39;00m\n\u001b[1;32m      3\u001b[0m \u001b[39mfrom\u001b[39;00m \u001b[39mpycuda\u001b[39;00m\u001b[39m.\u001b[39;00m\u001b[39mcompiler\u001b[39;00m \u001b[39mimport\u001b[39;00m SourceModule\n",
      "\u001b[0;31mModuleNotFoundError\u001b[0m: No module named 'pycuda'"
     ]
    }
   ],
   "source": [
    "import numpy as np\n",
    "from cudaAcceleration import CUDAAccelerator\n",
    "\n",
    "cuda_acc = CUDAAccelerator()\n",
    "\n",
    "# Example CUDA code\n",
    "code = \"\"\"\n",
    "__global__ void add(int n, float *x, float *y) {\n",
    "    int i = blockDim.x * blockIdx.x + threadIdx.x;\n",
    "    if (i < n) {\n",
    "        y[i] = x[i] + y[i];\n",
    "    }\n",
    "}\n",
    "\"\"\"\n",
    "\n",
    "# Compile the CUDA code\n",
    "cuda_acc.compile(code)\n",
    "\n",
    "# Allocate memory on the device and copy data to it\n",
    "n = 1024\n",
    "x = np.ones(n, dtype=np.float32)\n",
    "y = np.zeros(n, dtype=np.float32)\n",
    "\n",
    "dev_x = cuda_acc.to_device(x)\n",
    "dev_y = cuda_acc.to_device(y)\n",
    "\n",
    "# Get the \"add\" function from the compiled module\n",
    "add_func = cuda_acc.get_function(\"add\")\n",
    "\n",
    "# Launch the kernel on the device\n",
    "block_size = 256\n",
    "grid_size = (n + block_size - 1) // block_size\n",
    "add_func(np.int32(n), dev_x, dev_y, block=(block_size,1,1), grid=(grid_size,1))\n",
    "\n",
    "# Copy the result back to the host\n",
    "result = cuda_acc.from_device(dev_y, shape=y.shape)\n",
    "\n",
    "print(result)\n"
   ]
  },
  {
   "cell_type": "code",
   "execution_count": null,
   "metadata": {},
   "outputs": [],
   "source": []
  }
 ],
 "metadata": {
  "kernelspec": {
   "display_name": "tensorflow",
   "language": "python",
   "name": "python3"
  },
  "language_info": {
   "codemirror_mode": {
    "name": "ipython",
    "version": 3
   },
   "file_extension": ".py",
   "mimetype": "text/x-python",
   "name": "python",
   "nbconvert_exporter": "python",
   "pygments_lexer": "ipython3",
   "version": "3.9.13"
  },
  "orig_nbformat": 4
 },
 "nbformat": 4,
 "nbformat_minor": 2
}
